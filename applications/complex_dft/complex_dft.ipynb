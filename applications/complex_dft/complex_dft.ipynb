{
 "cells": [
  {
   "cell_type": "markdown",
   "metadata": {},
   "source": [
    "# Visualizing the Complex Discrete Fourier Transform\n",
    "The discrete Fourier transform maps a complex sequence $z_k = x_k + iy_k, \\, k = 0, \\ldots, n-1$ to another sequence $a_m \\in \\mathbb{C}, m = 0, \\ldots, n-1$ that represents $z_k$ as a composition complex sinusoidals with different frequencies.\n",
    "\n",
    "Recall that for $w\\in\\mathbb{C}$, $\\exp(iw) = \\cos(w) + i\\sin(w)$\n",
    "\n",
    "The Fourier series of the sequence $z_k$ are the complex numbers $a_m \\in \\mathbb{C}$, $m = 0,\\ldots n-1$ such that\n",
    "\n",
    "$$\n",
    "z_k = \\frac{1}{n}\\sum_{m = 0}^{n-1} a_m \\exp\\left\\{2\\pi i \\frac{mk}{n} \\right\\}, \\quad k = 0, \\ldots, n-1\n",
    "$$\n",
    "\n",
    "That is, the $a_m$ are the coordinates of the $\\left\\{\\Psi_m(k) = \\exp\\left\\{2\\pi i \\frac{mk}{n} \\right\\}, m = 0, \\ldots n-1 \\right\\}$ basis representation of $z = (z_1,\\ldots, z_n)$.\n",
    "\n",
    "$$\n",
    "a_m = \\langle z \\,, \\Psi_m \\rangle = z^\\top \\overline{\\Psi_m}\n",
    "$$\n",
    "\n",
    "Expanding the inner product, we obtain the more common expression of $a_m$ as the discrete Fourier transform of $z_k$:\n",
    "\n",
    "$$\n",
    "a_m = \\sum_{k= 0}^{n-1} z_k \\exp\\left\\{-2\\pi i \\frac{mk}{n} \\right\\}, \\quad m = 0, \\ldots, n-1\n",
    "$$"
   ]
  },
  {
   "cell_type": "code",
   "execution_count": 1,
   "metadata": {},
   "outputs": [],
   "source": [
    "import numpy as np\n",
    "import fourier as fr\n",
    "import matplotlib.pyplot as plt\n",
    "\n",
    "# Lissajous Curve parameters\n",
    "# See: https://en.wikipedia.org/wiki/Lissajous_curve\n",
    "\n",
    "n = 500         # Number of points to use\n",
    "Aa = 3           # x amplitude\n",
    "Ba = 3           # y amplitude\n",
    "a = 1           # x frequency\n",
    "b = 3           # y frequency\n",
    "delta = np.pi/2\n",
    "\n",
    "# Generate input series\n",
    "theta = np.linspace(1/n, 2*np.pi, num=n)\n",
    "x = Aa * np.sin(a*theta + delta)\n",
    "y = Ba * np.sin(b*theta)\n",
    "\n",
    "# Construct Complex z sequence\n",
    "z = x + y * 1j"
   ]
  },
  {
   "cell_type": "markdown",
   "metadata": {},
   "source": [
    "First, let's calculate the discrete Fourier transform by hand and using ```np.fft.fft``` and confirm their equivalence.\n",
    "\n",
    "We will build up a matrix, `B` that maps from the $a_m$ sequence to the $z_k$ sequence. This is matrix is will be the inverse discrete Fourier transform matrix: $\\mathbf{z} = B \\mathbf{a}$, having the entries $B_{k,m} = \\Psi_m(k) = \\exp\\left\\{2\\pi i \\frac{mk}{n} \\right\\}$. \n",
    "\n",
    "From this definition, we can see that the inverse mapping (the DFT matrix) $B^{-1} = B^*$. That is, the "
   ]
  },
  {
   "cell_type": "code",
   "execution_count": 5,
   "metadata": {},
   "outputs": [
    {
     "name": "stdout",
     "output_type": "stream",
     "text": [
      "difference: 2.7823989395717143e-11\n"
     ]
    }
   ],
   "source": [
    "ks = np.linspace(0, n-1, n)\n",
    "ms = ks\n",
    "ks = ks.reshape(n,-1).T\n",
    "ms = ms.reshape(n,-1)\n",
    "\n",
    "# Cosine, sine basis (unitary)\n",
    "B = np.exp(2*np.pi*1j*np.matmul(ms,ks)/n)\n",
    "# Discrete Fourier Transform by hand \n",
    "A1 = (np.conjugate(B) @ z)\n",
    "# Discrete Fourier Transform using np.fft.fft\n",
    "A = np.fft.fft(z, n)\n",
    "# Confirm equal\n",
    "print(\"difference: {}\".format(np.max(np.abs(A1 - A))))"
   ]
  },
  {
   "cell_type": "markdown",
   "metadata": {},
   "source": [
    "With these Fourier basis coefficients $a_m$, we can represent $z_k$ in terms of the $\\Psi_m$ basis functions:\n",
    "$$\n",
    "z_k = \\frac{1}{n}\\sum_{m = 0}^{n-1} a_m \\Psi_m(k) = \\frac{1}{n} \\sum_{m = 0}^{n-1}  a_m \\exp\\left\\{2\\pi i \\frac{mk}{n} \\right\\}\n",
    "$$\n",
    "\n",
    "Each term of the summand, $\\frac{1}{n} a_m \\exp\\left\\{2\\pi i \\frac{mk}{n} \\right\\}$, is an element of the complex plane. We can visualize the point $z_k$ as the sum of 2-d vectors in the complex plane each are rotating at constant frequencies $m/n$. "
   ]
  },
  {
   "cell_type": "code",
   "execution_count": 6,
   "metadata": {},
   "outputs": [
    {
     "data": {
      "image/png": "[encoded data removed]",
      "text/plain": [
       "<Figure size 640x480 with 1 Axes>"
      ]
     },
     "metadata": {},
     "output_type": "display_data"
    }
   ],
   "source": [
    "# Terms in summand. rows: sequence index (k), columns frequency index (m)\n",
    "Z = (B * A)/n\n",
    "#More expressively: \n",
    "# for m in range(0, n):\n",
    "#     Z[:,m] = A[m] * np.exp(2 * np.pi * 1j * m * ks.squeeze()/n)/n\n",
    "# Plot z_k as partial sums \n",
    "\n",
    "num = 50                     # Element of z sequence to plot\n",
    "def Z2uvxy(Z, num):\n",
    "        U = Z[num,:].real\n",
    "        V = Z[num,:].imag\n",
    "        X = np.cumsum(U)\n",
    "        Y = np.cumsum(V)\n",
    "        X = np.append(0, X)\n",
    "        Y = np.append(0, Y)\n",
    "        X = X[:-1]\n",
    "        Y = Y[:-1]\n",
    "        return U, V, X, Y\n",
    "\n",
    "# Start of figures\n",
    "fig, ax = plt.subplots(1, 1)\n",
    "# Add line\n",
    "abs_lim = np.max(np.abs(np.cumsum(Z, 1)))\n",
    "# abs_lim = np.max(np.abs([x,y]))\n",
    "plt.xlim(-abs_lim, abs_lim)\n",
    "plt.ylim(-abs_lim, abs_lim)\n",
    "\n",
    "# ax.axis('equal')\n",
    "line, = ax.plot(x[0:num],y[0:num], lw=2)\n",
    "\n",
    "U, V, X, Y = Z2uvxy(Z, num)\n",
    "# Add quivers\n",
    "Q = ax.quiver(X, Y, U, V, angles = 'xy',units='xy', scale_units='xy', scale=1)\n"
   ]
  },
  {
   "cell_type": "markdown",
   "metadata": {},
   "source": [
    "We can plot the entire sequence as an animation to visualize $z_k$ in terms of the scaled $\\Psi_m(k)$ components, each having a constant rate of rotation. In this animation, we can see how the $z_k$ sequence has a much lower dimensional representation in terms of only a few basis functions, as primarily only a few rotating vectors contribute to the $z_k$ trajectory."
   ]
  },
  {
   "cell_type": "code",
   "execution_count": null,
   "metadata": {},
   "outputs": [],
   "source": [
    "# Animate all z_k terms\n",
    "anim = fr.animate_dft(x, y)\n",
    "plt.close()\n",
    "\n",
    "from IPython.display import HTML\n",
    "HTML(anim.to_jshtml())"
   ]
  }
 ],
 "metadata": {
  "kernelspec": {
   "display_name": "fourier",
   "language": "python",
   "name": "python3"
  },
  "language_info": {
   "codemirror_mode": {
    "name": "ipython",
    "version": 3
   },
   "file_extension": ".py",
   "mimetype": "text/x-python",
   "name": "python",
   "nbconvert_exporter": "python",
   "pygments_lexer": "ipython3",
   "version": "3.12.2"
  }
 },
 "nbformat": 4,
 "nbformat_minor": 2
}
